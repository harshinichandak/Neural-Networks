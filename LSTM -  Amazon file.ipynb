{
 "cells": [
  {
   "cell_type": "code",
   "execution_count": 1,
   "id": "8959f1c2",
   "metadata": {},
   "outputs": [],
   "source": [
    "import pandas as pd\n",
    "import numpy as np\n",
    "from keras.layers import Dense, SimpleRNN, GRU , LSTM , Embedding\n",
    "from keras.models  import Sequential\n",
    "\n",
    "#from keras.utils import to_categorical\n",
    "from tensorflow.keras.utils import to_categorical"
   ]
  },
  {
   "cell_type": "code",
   "execution_count": 2,
   "id": "9ff60934",
   "metadata": {},
   "outputs": [],
   "source": [
    "amz = pd.read_csv(r'D:\\Datasets\\amazonreviews.tsv', sep = '\\t') "
   ]
  },
  {
   "cell_type": "code",
   "execution_count": 3,
   "id": "e2ef3fff",
   "metadata": {},
   "outputs": [
    {
     "data": {
      "text/html": [
       "<div>\n",
       "<style scoped>\n",
       "    .dataframe tbody tr th:only-of-type {\n",
       "        vertical-align: middle;\n",
       "    }\n",
       "\n",
       "    .dataframe tbody tr th {\n",
       "        vertical-align: top;\n",
       "    }\n",
       "\n",
       "    .dataframe thead th {\n",
       "        text-align: right;\n",
       "    }\n",
       "</style>\n",
       "<table border=\"1\" class=\"dataframe\">\n",
       "  <thead>\n",
       "    <tr style=\"text-align: right;\">\n",
       "      <th></th>\n",
       "      <th>label</th>\n",
       "      <th>review</th>\n",
       "    </tr>\n",
       "  </thead>\n",
       "  <tbody>\n",
       "    <tr>\n",
       "      <th>9995</th>\n",
       "      <td>1</td>\n",
       "      <td>A revelation of life in small town America in ...</td>\n",
       "    </tr>\n",
       "    <tr>\n",
       "      <th>9996</th>\n",
       "      <td>1</td>\n",
       "      <td>Great biography of a very interesting journali...</td>\n",
       "    </tr>\n",
       "    <tr>\n",
       "      <th>9997</th>\n",
       "      <td>0</td>\n",
       "      <td>Interesting Subject; Poor Presentation: You'd ...</td>\n",
       "    </tr>\n",
       "    <tr>\n",
       "      <th>9998</th>\n",
       "      <td>0</td>\n",
       "      <td>Don't buy: The box looked used and it is obvio...</td>\n",
       "    </tr>\n",
       "    <tr>\n",
       "      <th>9999</th>\n",
       "      <td>1</td>\n",
       "      <td>Beautiful Pen and Fast Delivery.: The pen was ...</td>\n",
       "    </tr>\n",
       "  </tbody>\n",
       "</table>\n",
       "</div>"
      ],
      "text/plain": [
       "      label                                             review\n",
       "9995      1  A revelation of life in small town America in ...\n",
       "9996      1  Great biography of a very interesting journali...\n",
       "9997      0  Interesting Subject; Poor Presentation: You'd ...\n",
       "9998      0  Don't buy: The box looked used and it is obvio...\n",
       "9999      1  Beautiful Pen and Fast Delivery.: The pen was ..."
      ]
     },
     "execution_count": 3,
     "metadata": {},
     "output_type": "execute_result"
    }
   ],
   "source": [
    "amz.label.replace({'pos':1, 'neg':0}, inplace = True)\n",
    "amz.tail()"
   ]
  },
  {
   "cell_type": "code",
   "execution_count": 4,
   "id": "e019230b",
   "metadata": {},
   "outputs": [],
   "source": [
    "amz_x = amz.iloc[:, 1]\n",
    "amz_y = amz.iloc[:, 0]\n",
    "from sklearn.model_selection import train_test_split\n",
    "\n",
    "x_train , x_test ,y_train , y_test = train_test_split(amz_x , amz_y , test_size = .2)"
   ]
  },
  {
   "cell_type": "code",
   "execution_count": 5,
   "id": "f9745b6a",
   "metadata": {},
   "outputs": [],
   "source": [
    "y_train = to_categorical(y_train)"
   ]
  },
  {
   "cell_type": "code",
   "execution_count": 6,
   "id": "db572c0a",
   "metadata": {},
   "outputs": [
    {
     "data": {
      "text/plain": [
       "array([1., 0.], dtype=float32)"
      ]
     },
     "execution_count": 6,
     "metadata": {},
     "output_type": "execute_result"
    }
   ],
   "source": [
    "y_train[3]"
   ]
  },
  {
   "cell_type": "code",
   "execution_count": 7,
   "id": "7ba31860",
   "metadata": {},
   "outputs": [],
   "source": [
    "max_num_words = 10000\n",
    "seq_len       = 50\n",
    "embedding_size  = 100\n",
    "\n",
    "from keras.preprocessing.text import Tokenizer  #  is used for tokinizeation\n",
    "from keras.preprocessing.sequence import pad_sequences  # used to bring all samples to same length\n",
    "#from keras.utils import to_categorical #  ( this function will be used to convert the labels to one hot encoding)\n",
    "import numpy as np\n",
    "#from keras.utils import to_categorical\n",
    "from tensorflow.keras.utils import to_categorical\n",
    "\n",
    "tokenizer = Tokenizer(num_words = max_num_words)\n",
    "tokenizer.fit_on_texts(amz.review)\n",
    "x_train = tokenizer.texts_to_sequences(x_train) # will convert the text to sequences of IDs\n",
    "x_train = pad_sequences(x_train , maxlen = seq_len)\n",
    "\n",
    "\n",
    "x_test  =  tokenizer.texts_to_sequences(x_test)\n",
    "x_test  =  pad_sequences(x_test , maxlen = seq_len)\n",
    "\n",
    "\n",
    "model = Sequential()  # iniitialize the network\n",
    "model.add(Embedding(input_dim = max_num_words,    # Embedding takes input in sequenses and gives output in embedings\n",
    "                   input_length = seq_len,\n",
    "                    output_dim = embedding_size))"
   ]
  },
  {
   "cell_type": "code",
   "execution_count": 8,
   "id": "45227703",
   "metadata": {},
   "outputs": [],
   "source": [
    "model.add(LSTM(5)) \n",
    "model.add(Dense(2 , activation  = 'softmax'))  # this 2 bcoz u have 2 level in target variable\n",
    "#from keras.optimizers import Adam\n",
    "from tensorflow.keras.optimizers import Adam\n",
    "adam = Adam(.001)\n",
    "model.compile(optimizer= adam , loss = 'categorical_crossentropy' , metrics = ['accuracy'])"
   ]
  },
  {
   "cell_type": "code",
   "execution_count": 9,
   "id": "21e5eab9",
   "metadata": {},
   "outputs": [
    {
     "name": "stdout",
     "output_type": "stream",
     "text": [
      "Epoch 1/5\n",
      "200/200 [==============================] - 6s 24ms/step - loss: 0.5938 - accuracy: 0.7041 - val_loss: 0.4678 - val_accuracy: 0.8100\n",
      "Epoch 2/5\n",
      "200/200 [==============================] - 3s 16ms/step - loss: 0.3547 - accuracy: 0.8687 - val_loss: 0.4229 - val_accuracy: 0.8188\n",
      "Epoch 3/5\n",
      "200/200 [==============================] - 3s 14ms/step - loss: 0.2302 - accuracy: 0.9236 - val_loss: 0.4611 - val_accuracy: 0.8106\n",
      "Epoch 4/5\n",
      "200/200 [==============================] - 3s 14ms/step - loss: 0.1541 - accuracy: 0.9517 - val_loss: 0.4945 - val_accuracy: 0.8100\n",
      "Epoch 5/5\n",
      "200/200 [==============================] - 3s 15ms/step - loss: 0.1148 - accuracy: 0.9658 - val_loss: 0.5336 - val_accuracy: 0.8056\n"
     ]
    },
    {
     "data": {
      "text/plain": [
       "<keras.callbacks.History at 0x1e32ee6ed30>"
      ]
     },
     "execution_count": 9,
     "metadata": {},
     "output_type": "execute_result"
    }
   ],
   "source": [
    "model.fit(x_train , y_train , epochs = 5 , batch_size= 32 , validation_split= .2)"
   ]
  },
  {
   "cell_type": "code",
   "execution_count": 10,
   "id": "e966003d",
   "metadata": {},
   "outputs": [
    {
     "data": {
      "text/plain": [
       "array([[0.02115251, 0.97884756],\n",
       "       [0.02909969, 0.97090036],\n",
       "       [0.8990433 , 0.10095667],\n",
       "       ...,\n",
       "       [0.02797006, 0.97203   ],\n",
       "       [0.983961  , 0.016039  ],\n",
       "       [0.42353633, 0.57646376]], dtype=float32)"
      ]
     },
     "execution_count": 10,
     "metadata": {},
     "output_type": "execute_result"
    }
   ],
   "source": [
    "pred = model.predict(x_test)\n",
    "pred"
   ]
  },
  {
   "cell_type": "code",
   "execution_count": 11,
   "id": "8ffcb073",
   "metadata": {},
   "outputs": [
    {
     "data": {
      "text/plain": [
       "array([1, 1, 0, ..., 1, 0, 1], dtype=int64)"
      ]
     },
     "execution_count": 11,
     "metadata": {},
     "output_type": "execute_result"
    }
   ],
   "source": [
    "pred_classes = np.argmax(pred, axis=1)\n",
    "pred_classes"
   ]
  },
  {
   "cell_type": "code",
   "execution_count": 12,
   "id": "c0ca9797",
   "metadata": {},
   "outputs": [],
   "source": [
    "from sklearn.metrics import confusion_matrix"
   ]
  },
  {
   "cell_type": "code",
   "execution_count": 13,
   "id": "354a196b",
   "metadata": {},
   "outputs": [
    {
     "data": {
      "text/plain": [
       "array([[799, 246],\n",
       "       [183, 772]], dtype=int64)"
      ]
     },
     "execution_count": 13,
     "metadata": {},
     "output_type": "execute_result"
    }
   ],
   "source": [
    "cm = confusion_matrix(y_test, pred_classes )\n",
    "cm"
   ]
  },
  {
   "cell_type": "code",
   "execution_count": 14,
   "id": "4722e6c4",
   "metadata": {},
   "outputs": [
    {
     "data": {
      "text/plain": [
       "0.7855"
      ]
     },
     "execution_count": 14,
     "metadata": {},
     "output_type": "execute_result"
    }
   ],
   "source": [
    "accuracy = cm.diagonal().sum()/cm.sum()\n",
    "accuracy"
   ]
  },
  {
   "cell_type": "markdown",
   "id": "71ec6d90",
   "metadata": {},
   "source": [
    "# Dot Product"
   ]
  },
  {
   "cell_type": "code",
   "execution_count": 15,
   "id": "57d1274a",
   "metadata": {},
   "outputs": [],
   "source": [
    "import pandas as pd\n",
    "import numpy as np\n",
    "import sklearn\n",
    "import   scipy\n"
   ]
  },
  {
   "cell_type": "code",
   "execution_count": 16,
   "id": "e99f4dbb",
   "metadata": {},
   "outputs": [],
   "source": [
    "A = [35 , 12 , 16 , 14]\n",
    "B = [ 37 , 15 , 18 , 23]\n",
    "C = [33 , 9 , 16  , 20]\n"
   ]
  },
  {
   "cell_type": "code",
   "execution_count": 17,
   "id": "63e50bbd",
   "metadata": {},
   "outputs": [
    {
     "data": {
      "text/plain": [
       "2085"
      ]
     },
     "execution_count": 17,
     "metadata": {},
     "output_type": "execute_result"
    }
   ],
   "source": [
    "DotAB = 35*37 + 12*15 + 18*16 + 23*14\n",
    "DotAB"
   ]
  },
  {
   "cell_type": "code",
   "execution_count": 18,
   "id": "9ee306b5",
   "metadata": {},
   "outputs": [
    {
     "data": {
      "text/plain": [
       "2085"
      ]
     },
     "execution_count": 18,
     "metadata": {},
     "output_type": "execute_result"
    }
   ],
   "source": [
    "DotAB = np.dot(A,B)\n",
    "DotAB"
   ]
  },
  {
   "cell_type": "code",
   "execution_count": 19,
   "id": "38b71ee7",
   "metadata": {},
   "outputs": [
    {
     "data": {
      "text/plain": [
       "42.67317658670374"
      ]
     },
     "execution_count": 19,
     "metadata": {},
     "output_type": "execute_result"
    }
   ],
   "source": [
    "np.linalg.norm([A])"
   ]
  },
  {
   "cell_type": "code",
   "execution_count": 20,
   "id": "e7c66659",
   "metadata": {},
   "outputs": [
    {
     "data": {
      "text/plain": [
       "0.9877205776754668"
      ]
     },
     "execution_count": 20,
     "metadata": {},
     "output_type": "execute_result"
    }
   ],
   "source": [
    "Cos_similarityAB = DotAB / (np.linalg.norm([A]) * np.linalg.norm([B]))\n",
    "Cos_similarityAB"
   ]
  },
  {
   "cell_type": "code",
   "execution_count": 21,
   "id": "3b4e2eb8",
   "metadata": {},
   "outputs": [],
   "source": [
    "import sklearn"
   ]
  },
  {
   "cell_type": "code",
   "execution_count": 22,
   "id": "8ba31a6d",
   "metadata": {},
   "outputs": [
    {
     "data": {
      "text/plain": [
       "array([[0.98772058]])"
      ]
     },
     "execution_count": 22,
     "metadata": {},
     "output_type": "execute_result"
    }
   ],
   "source": [
    "sklearn.metrics.pairwise.cosine_similarity( [A], [B])"
   ]
  },
  {
   "cell_type": "code",
   "execution_count": 23,
   "id": "fcf00575",
   "metadata": {},
   "outputs": [],
   "source": [
    "if sklearn.metrics.pairwise.cosine_similarity( [A], [B]) > .99:\n",
    "    print('high similarity')"
   ]
  },
  {
   "cell_type": "code",
   "execution_count": 24,
   "id": "a2cb8228",
   "metadata": {},
   "outputs": [
    {
     "data": {
      "text/plain": [
       "pandas.core.series.Series"
      ]
     },
     "execution_count": 24,
     "metadata": {},
     "output_type": "execute_result"
    }
   ],
   "source": [
    "type(amz_y)"
   ]
  },
  {
   "cell_type": "code",
   "execution_count": 25,
   "id": "54578b70",
   "metadata": {},
   "outputs": [],
   "source": [
    "amz = pd.read_csv(r'D:\\Datasets\\amazonreviews.tsv', sep = '\\t') "
   ]
  },
  {
   "cell_type": "code",
   "execution_count": 26,
   "id": "89716a83",
   "metadata": {},
   "outputs": [
    {
     "data": {
      "text/html": [
       "<div>\n",
       "<style scoped>\n",
       "    .dataframe tbody tr th:only-of-type {\n",
       "        vertical-align: middle;\n",
       "    }\n",
       "\n",
       "    .dataframe tbody tr th {\n",
       "        vertical-align: top;\n",
       "    }\n",
       "\n",
       "    .dataframe thead th {\n",
       "        text-align: right;\n",
       "    }\n",
       "</style>\n",
       "<table border=\"1\" class=\"dataframe\">\n",
       "  <thead>\n",
       "    <tr style=\"text-align: right;\">\n",
       "      <th></th>\n",
       "      <th>label</th>\n",
       "      <th>review</th>\n",
       "    </tr>\n",
       "  </thead>\n",
       "  <tbody>\n",
       "    <tr>\n",
       "      <th>9995</th>\n",
       "      <td>1</td>\n",
       "      <td>A revelation of life in small town America in ...</td>\n",
       "    </tr>\n",
       "    <tr>\n",
       "      <th>9996</th>\n",
       "      <td>1</td>\n",
       "      <td>Great biography of a very interesting journali...</td>\n",
       "    </tr>\n",
       "    <tr>\n",
       "      <th>9997</th>\n",
       "      <td>0</td>\n",
       "      <td>Interesting Subject; Poor Presentation: You'd ...</td>\n",
       "    </tr>\n",
       "    <tr>\n",
       "      <th>9998</th>\n",
       "      <td>0</td>\n",
       "      <td>Don't buy: The box looked used and it is obvio...</td>\n",
       "    </tr>\n",
       "    <tr>\n",
       "      <th>9999</th>\n",
       "      <td>1</td>\n",
       "      <td>Beautiful Pen and Fast Delivery.: The pen was ...</td>\n",
       "    </tr>\n",
       "  </tbody>\n",
       "</table>\n",
       "</div>"
      ],
      "text/plain": [
       "      label                                             review\n",
       "9995      1  A revelation of life in small town America in ...\n",
       "9996      1  Great biography of a very interesting journali...\n",
       "9997      0  Interesting Subject; Poor Presentation: You'd ...\n",
       "9998      0  Don't buy: The box looked used and it is obvio...\n",
       "9999      1  Beautiful Pen and Fast Delivery.: The pen was ..."
      ]
     },
     "execution_count": 26,
     "metadata": {},
     "output_type": "execute_result"
    }
   ],
   "source": [
    "amz.label.replace({'pos':1, 'neg':0}, inplace = True)\n",
    "amz.tail()"
   ]
  },
  {
   "cell_type": "code",
   "execution_count": 27,
   "id": "50a9f810",
   "metadata": {},
   "outputs": [],
   "source": [
    "amz_x = amz.iloc[:, 1]\n",
    "amz_y = amz.iloc[:, 0]\n",
    "from sklearn.model_selection import train_test_split\n",
    "\n",
    "x_train , x_test ,y_train , y_test = train_test_split(amz_x , amz_y , test_size = .2)"
   ]
  },
  {
   "cell_type": "code",
   "execution_count": 28,
   "id": "485fc706",
   "metadata": {},
   "outputs": [],
   "source": [
    "y_train = to_categorical(y_train)"
   ]
  },
  {
   "cell_type": "code",
   "execution_count": 29,
   "id": "c7167b3c",
   "metadata": {},
   "outputs": [],
   "source": [
    "max_num_words = 10000\n",
    "seq_len       = 50\n",
    "embedding_size  = 100\n",
    "\n",
    "from keras.preprocessing.text import Tokenizer  #  is used for tokinizeation\n",
    "from keras.preprocessing.sequence import pad_sequences  # used to bring all samples to same length\n",
    "#from keras.utils import to_categorical #  ( this function will be used to convert the labels to one hot encoding)\n",
    "import numpy as np\n",
    "#from keras.utils import to_categorical\n",
    "from tensorflow.keras.utils import to_categorical\n",
    "\n",
    "tokenizer = Tokenizer(num_words = max_num_words)\n",
    "tokenizer.fit_on_texts(amz.review)\n",
    "x_train = tokenizer.texts_to_sequences(x_train) # will convert the text to sequences of IDs\n",
    "x_train = pad_sequences(x_train , maxlen = seq_len)\n",
    "\n",
    "\n",
    "x_test  =  tokenizer.texts_to_sequences(x_test)\n",
    "x_test  =  pad_sequences(x_test , maxlen = seq_len)\n",
    "\n",
    "from keras.layers import Bidirectional\n",
    "model = Sequential()  # iniitialize the network\n",
    "model.add(Embedding(input_dim = max_num_words,    # Embedding takes input in sequenses and gives output in embedings\n",
    "                   input_length = seq_len,\n",
    "                    output_dim = embedding_size))"
   ]
  },
  {
   "cell_type": "code",
   "execution_count": 30,
   "id": "ade9b7cf",
   "metadata": {},
   "outputs": [],
   "source": [
    "model.add(LSTM(5)) \n",
    "model.add(Dense(2 , activation  = 'softmax'))  # this 2 bcoz u have 2 level in target variable\n",
    "#from keras.optimizers import Adam\n",
    "from tensorflow.keras.optimizers import Adam\n",
    "adam = Adam(.001)\n",
    "model.compile(optimizer= adam , loss = 'categorical_crossentropy' , metrics = ['accuracy'])"
   ]
  },
  {
   "cell_type": "code",
   "execution_count": 31,
   "id": "3f2b1901",
   "metadata": {},
   "outputs": [
    {
     "name": "stdout",
     "output_type": "stream",
     "text": [
      "Epoch 1/5\n",
      "200/200 [==============================] - 5s 18ms/step - loss: 0.5660 - accuracy: 0.7148 - val_loss: 0.4308 - val_accuracy: 0.8200\n",
      "Epoch 2/5\n",
      "200/200 [==============================] - 3s 14ms/step - loss: 0.3134 - accuracy: 0.8777 - val_loss: 0.4145 - val_accuracy: 0.8306\n",
      "Epoch 3/5\n",
      "200/200 [==============================] - 3s 14ms/step - loss: 0.1714 - accuracy: 0.9438 - val_loss: 0.4559 - val_accuracy: 0.8100\n",
      "Epoch 4/5\n",
      "200/200 [==============================] - 3s 15ms/step - loss: 0.1028 - accuracy: 0.9689 - val_loss: 0.5342 - val_accuracy: 0.8138\n",
      "Epoch 5/5\n",
      "200/200 [==============================] - 3s 15ms/step - loss: 0.0703 - accuracy: 0.9798 - val_loss: 0.6542 - val_accuracy: 0.8000\n"
     ]
    },
    {
     "data": {
      "text/plain": [
       "<keras.callbacks.History at 0x1e32eaefd90>"
      ]
     },
     "execution_count": 31,
     "metadata": {},
     "output_type": "execute_result"
    }
   ],
   "source": [
    "model.fit(x_train , y_train , epochs = 5 , batch_size= 32 , validation_split= .2)"
   ]
  },
  {
   "cell_type": "code",
   "execution_count": 32,
   "id": "d8503a7e",
   "metadata": {},
   "outputs": [
    {
     "data": {
      "text/plain": [
       "array([[0.01277241, 0.98722756],\n",
       "       [0.01168243, 0.98831755],\n",
       "       [0.03519462, 0.9648053 ],\n",
       "       ...,\n",
       "       [0.9858181 , 0.01418187],\n",
       "       [0.01779462, 0.98220545],\n",
       "       [0.98988837, 0.01011167]], dtype=float32)"
      ]
     },
     "execution_count": 32,
     "metadata": {},
     "output_type": "execute_result"
    }
   ],
   "source": [
    "pred = model.predict(x_test)\n",
    "pred"
   ]
  },
  {
   "cell_type": "code",
   "execution_count": 33,
   "id": "74120287",
   "metadata": {},
   "outputs": [
    {
     "data": {
      "text/plain": [
       "array([1, 1, 1, ..., 0, 1, 0], dtype=int64)"
      ]
     },
     "execution_count": 33,
     "metadata": {},
     "output_type": "execute_result"
    }
   ],
   "source": [
    "pred_classes = np.argmax(pred, axis=1)\n",
    "pred_classes"
   ]
  },
  {
   "cell_type": "code",
   "execution_count": null,
   "id": "c35ae348",
   "metadata": {},
   "outputs": [],
   "source": []
  }
 ],
 "metadata": {
  "kernelspec": {
   "display_name": "Python 3 (ipykernel)",
   "language": "python",
   "name": "python3"
  },
  "language_info": {
   "codemirror_mode": {
    "name": "ipython",
    "version": 3
   },
   "file_extension": ".py",
   "mimetype": "text/x-python",
   "name": "python",
   "nbconvert_exporter": "python",
   "pygments_lexer": "ipython3",
   "version": "3.9.11"
  }
 },
 "nbformat": 4,
 "nbformat_minor": 5
}
