{
 "cells": [
  {
   "cell_type": "code",
   "execution_count": 1,
   "id": "851e6d52",
   "metadata": {},
   "outputs": [],
   "source": [
    "import pandas as pd\n",
    "import numpy as np\n",
    "import matplotlib.pyplot as plt\n",
    "import tensorflow as tf\n",
    "import keras  # keras is a wrapper on tensorflow. Keras is a high level api compared to tensprflow"
   ]
  },
  {
   "cell_type": "code",
   "execution_count": 2,
   "id": "92c45234",
   "metadata": {},
   "outputs": [],
   "source": [
    "mnist = pd.read_csv(r'D:\\Datasets\\MNIST_Train.csv')"
   ]
  },
  {
   "cell_type": "code",
   "execution_count": 3,
   "id": "e1152976",
   "metadata": {
    "scrolled": true
   },
   "outputs": [
    {
     "data": {
      "text/html": [
       "<div>\n",
       "<style scoped>\n",
       "    .dataframe tbody tr th:only-of-type {\n",
       "        vertical-align: middle;\n",
       "    }\n",
       "\n",
       "    .dataframe tbody tr th {\n",
       "        vertical-align: top;\n",
       "    }\n",
       "\n",
       "    .dataframe thead th {\n",
       "        text-align: right;\n",
       "    }\n",
       "</style>\n",
       "<table border=\"1\" class=\"dataframe\">\n",
       "  <thead>\n",
       "    <tr style=\"text-align: right;\">\n",
       "      <th></th>\n",
       "      <th>label</th>\n",
       "      <th>pixel0</th>\n",
       "      <th>pixel1</th>\n",
       "      <th>pixel2</th>\n",
       "      <th>pixel3</th>\n",
       "      <th>pixel4</th>\n",
       "      <th>pixel5</th>\n",
       "      <th>pixel6</th>\n",
       "      <th>pixel7</th>\n",
       "      <th>pixel8</th>\n",
       "      <th>...</th>\n",
       "      <th>pixel774</th>\n",
       "      <th>pixel775</th>\n",
       "      <th>pixel776</th>\n",
       "      <th>pixel777</th>\n",
       "      <th>pixel778</th>\n",
       "      <th>pixel779</th>\n",
       "      <th>pixel780</th>\n",
       "      <th>pixel781</th>\n",
       "      <th>pixel782</th>\n",
       "      <th>pixel783</th>\n",
       "    </tr>\n",
       "  </thead>\n",
       "  <tbody>\n",
       "    <tr>\n",
       "      <th>0</th>\n",
       "      <td>1</td>\n",
       "      <td>0</td>\n",
       "      <td>0</td>\n",
       "      <td>0</td>\n",
       "      <td>0</td>\n",
       "      <td>0</td>\n",
       "      <td>0</td>\n",
       "      <td>0</td>\n",
       "      <td>0</td>\n",
       "      <td>0</td>\n",
       "      <td>...</td>\n",
       "      <td>0</td>\n",
       "      <td>0</td>\n",
       "      <td>0</td>\n",
       "      <td>0</td>\n",
       "      <td>0</td>\n",
       "      <td>0</td>\n",
       "      <td>0</td>\n",
       "      <td>0</td>\n",
       "      <td>0</td>\n",
       "      <td>0</td>\n",
       "    </tr>\n",
       "    <tr>\n",
       "      <th>1</th>\n",
       "      <td>0</td>\n",
       "      <td>0</td>\n",
       "      <td>0</td>\n",
       "      <td>0</td>\n",
       "      <td>0</td>\n",
       "      <td>0</td>\n",
       "      <td>0</td>\n",
       "      <td>0</td>\n",
       "      <td>0</td>\n",
       "      <td>0</td>\n",
       "      <td>...</td>\n",
       "      <td>0</td>\n",
       "      <td>0</td>\n",
       "      <td>0</td>\n",
       "      <td>0</td>\n",
       "      <td>0</td>\n",
       "      <td>0</td>\n",
       "      <td>0</td>\n",
       "      <td>0</td>\n",
       "      <td>0</td>\n",
       "      <td>0</td>\n",
       "    </tr>\n",
       "    <tr>\n",
       "      <th>2</th>\n",
       "      <td>1</td>\n",
       "      <td>0</td>\n",
       "      <td>0</td>\n",
       "      <td>0</td>\n",
       "      <td>0</td>\n",
       "      <td>0</td>\n",
       "      <td>0</td>\n",
       "      <td>0</td>\n",
       "      <td>0</td>\n",
       "      <td>0</td>\n",
       "      <td>...</td>\n",
       "      <td>0</td>\n",
       "      <td>0</td>\n",
       "      <td>0</td>\n",
       "      <td>0</td>\n",
       "      <td>0</td>\n",
       "      <td>0</td>\n",
       "      <td>0</td>\n",
       "      <td>0</td>\n",
       "      <td>0</td>\n",
       "      <td>0</td>\n",
       "    </tr>\n",
       "    <tr>\n",
       "      <th>3</th>\n",
       "      <td>4</td>\n",
       "      <td>0</td>\n",
       "      <td>0</td>\n",
       "      <td>0</td>\n",
       "      <td>0</td>\n",
       "      <td>0</td>\n",
       "      <td>0</td>\n",
       "      <td>0</td>\n",
       "      <td>0</td>\n",
       "      <td>0</td>\n",
       "      <td>...</td>\n",
       "      <td>0</td>\n",
       "      <td>0</td>\n",
       "      <td>0</td>\n",
       "      <td>0</td>\n",
       "      <td>0</td>\n",
       "      <td>0</td>\n",
       "      <td>0</td>\n",
       "      <td>0</td>\n",
       "      <td>0</td>\n",
       "      <td>0</td>\n",
       "    </tr>\n",
       "    <tr>\n",
       "      <th>4</th>\n",
       "      <td>0</td>\n",
       "      <td>0</td>\n",
       "      <td>0</td>\n",
       "      <td>0</td>\n",
       "      <td>0</td>\n",
       "      <td>0</td>\n",
       "      <td>0</td>\n",
       "      <td>0</td>\n",
       "      <td>0</td>\n",
       "      <td>0</td>\n",
       "      <td>...</td>\n",
       "      <td>0</td>\n",
       "      <td>0</td>\n",
       "      <td>0</td>\n",
       "      <td>0</td>\n",
       "      <td>0</td>\n",
       "      <td>0</td>\n",
       "      <td>0</td>\n",
       "      <td>0</td>\n",
       "      <td>0</td>\n",
       "      <td>0</td>\n",
       "    </tr>\n",
       "  </tbody>\n",
       "</table>\n",
       "<p>5 rows × 785 columns</p>\n",
       "</div>"
      ],
      "text/plain": [
       "   label  pixel0  pixel1  pixel2  pixel3  pixel4  pixel5  pixel6  pixel7  \\\n",
       "0      1       0       0       0       0       0       0       0       0   \n",
       "1      0       0       0       0       0       0       0       0       0   \n",
       "2      1       0       0       0       0       0       0       0       0   \n",
       "3      4       0       0       0       0       0       0       0       0   \n",
       "4      0       0       0       0       0       0       0       0       0   \n",
       "\n",
       "   pixel8  ...  pixel774  pixel775  pixel776  pixel777  pixel778  pixel779  \\\n",
       "0       0  ...         0         0         0         0         0         0   \n",
       "1       0  ...         0         0         0         0         0         0   \n",
       "2       0  ...         0         0         0         0         0         0   \n",
       "3       0  ...         0         0         0         0         0         0   \n",
       "4       0  ...         0         0         0         0         0         0   \n",
       "\n",
       "   pixel780  pixel781  pixel782  pixel783  \n",
       "0         0         0         0         0  \n",
       "1         0         0         0         0  \n",
       "2         0         0         0         0  \n",
       "3         0         0         0         0  \n",
       "4         0         0         0         0  \n",
       "\n",
       "[5 rows x 785 columns]"
      ]
     },
     "execution_count": 3,
     "metadata": {},
     "output_type": "execute_result"
    }
   ],
   "source": [
    "mnist.head()"
   ]
  },
  {
   "cell_type": "code",
   "execution_count": 4,
   "id": "f75d6337",
   "metadata": {},
   "outputs": [],
   "source": [
    "mnist = mnist.iloc[:, 1:]"
   ]
  },
  {
   "cell_type": "code",
   "execution_count": 5,
   "id": "70defd57",
   "metadata": {},
   "outputs": [
    {
     "data": {
      "text/html": [
       "<div>\n",
       "<style scoped>\n",
       "    .dataframe tbody tr th:only-of-type {\n",
       "        vertical-align: middle;\n",
       "    }\n",
       "\n",
       "    .dataframe tbody tr th {\n",
       "        vertical-align: top;\n",
       "    }\n",
       "\n",
       "    .dataframe thead th {\n",
       "        text-align: right;\n",
       "    }\n",
       "</style>\n",
       "<table border=\"1\" class=\"dataframe\">\n",
       "  <thead>\n",
       "    <tr style=\"text-align: right;\">\n",
       "      <th></th>\n",
       "      <th>pixel0</th>\n",
       "      <th>pixel1</th>\n",
       "      <th>pixel2</th>\n",
       "      <th>pixel3</th>\n",
       "      <th>pixel4</th>\n",
       "      <th>pixel5</th>\n",
       "      <th>pixel6</th>\n",
       "      <th>pixel7</th>\n",
       "      <th>pixel8</th>\n",
       "      <th>pixel9</th>\n",
       "      <th>...</th>\n",
       "      <th>pixel774</th>\n",
       "      <th>pixel775</th>\n",
       "      <th>pixel776</th>\n",
       "      <th>pixel777</th>\n",
       "      <th>pixel778</th>\n",
       "      <th>pixel779</th>\n",
       "      <th>pixel780</th>\n",
       "      <th>pixel781</th>\n",
       "      <th>pixel782</th>\n",
       "      <th>pixel783</th>\n",
       "    </tr>\n",
       "  </thead>\n",
       "  <tbody>\n",
       "    <tr>\n",
       "      <th>0</th>\n",
       "      <td>0</td>\n",
       "      <td>0</td>\n",
       "      <td>0</td>\n",
       "      <td>0</td>\n",
       "      <td>0</td>\n",
       "      <td>0</td>\n",
       "      <td>0</td>\n",
       "      <td>0</td>\n",
       "      <td>0</td>\n",
       "      <td>0</td>\n",
       "      <td>...</td>\n",
       "      <td>0</td>\n",
       "      <td>0</td>\n",
       "      <td>0</td>\n",
       "      <td>0</td>\n",
       "      <td>0</td>\n",
       "      <td>0</td>\n",
       "      <td>0</td>\n",
       "      <td>0</td>\n",
       "      <td>0</td>\n",
       "      <td>0</td>\n",
       "    </tr>\n",
       "  </tbody>\n",
       "</table>\n",
       "<p>1 rows × 784 columns</p>\n",
       "</div>"
      ],
      "text/plain": [
       "   pixel0  pixel1  pixel2  pixel3  pixel4  pixel5  pixel6  pixel7  pixel8  \\\n",
       "0       0       0       0       0       0       0       0       0       0   \n",
       "\n",
       "   pixel9  ...  pixel774  pixel775  pixel776  pixel777  pixel778  pixel779  \\\n",
       "0       0  ...         0         0         0         0         0         0   \n",
       "\n",
       "   pixel780  pixel781  pixel782  pixel783  \n",
       "0         0         0         0         0  \n",
       "\n",
       "[1 rows x 784 columns]"
      ]
     },
     "execution_count": 5,
     "metadata": {},
     "output_type": "execute_result"
    }
   ],
   "source": [
    "mnist.head(1)"
   ]
  },
  {
   "cell_type": "code",
   "execution_count": 6,
   "id": "29634f46",
   "metadata": {},
   "outputs": [],
   "source": [
    "mnist = np.array(mnist)"
   ]
  },
  {
   "cell_type": "code",
   "execution_count": 7,
   "id": "84bdc316",
   "metadata": {},
   "outputs": [],
   "source": [
    "var1 = mnist[3]"
   ]
  },
  {
   "cell_type": "code",
   "execution_count": 8,
   "id": "4a1558c3",
   "metadata": {},
   "outputs": [
    {
     "data": {
      "text/plain": [
       "array([[  0,   0,   0,   0,   0,   0,   0,   0,   0,   0,   0,   0,   0,\n",
       "          0,   0,   0,   0,   0,   0,   0,   0,   0,   0,   0,   0,   0,\n",
       "          0,   0],\n",
       "       [  0,   0,   0,   0,   0,   0,   0,   0,   0,   0,   0,   0,   0,\n",
       "          0,   0,   0,   0,   0,   0,   0,   0,   0,   0,   0,   0,   0,\n",
       "          0,   0],\n",
       "       [  0,   0,   0,   0,   0,   0,   0,   0,   0,   0,   0,   0,   0,\n",
       "          0,   0,   0,   0,   0,   0,   0,   0,   0,   0,   0,   0,   0,\n",
       "          0,   0],\n",
       "       [  0,   0,   0,   0,   0,   0,   0,   0,   0,   0,   0,   0,   0,\n",
       "          0,   0,   0,   0,   0,   0,   0,   0,   0,   0,   0,   0,   0,\n",
       "          0,   0],\n",
       "       [  0,   0,   0,   0,   0,   0,   0,   0,   0,   0,   0,   0,   0,\n",
       "          0,   0,   0,   0,   0,   0,   0,   0,   0,   0,   0,   0,   0,\n",
       "          0,   0],\n",
       "       [  0,   0,   0,   0,   0,   0, 220, 179,   6,   0,   0,   0,   0,\n",
       "          0,   0,   0,   0,   9,  77,   0,   0,   0,   0,   0,   0,   0,\n",
       "          0,   0],\n",
       "       [  0,   0,   0,   0,   0,   0,  28, 247,  17,   0,   0,   0,   0,\n",
       "          0,   0,   0,   0,  27, 202,   0,   0,   0,   0,   0,   0,   0,\n",
       "          0,   0],\n",
       "       [  0,   0,   0,   0,   0,   0,   0, 242, 155,   0,   0,   0,   0,\n",
       "          0,   0,   0,   0,  27, 254,  63,   0,   0,   0,   0,   0,   0,\n",
       "          0,   0],\n",
       "       [  0,   0,   0,   0,   0,   0,   0, 160, 207,   6,   0,   0,   0,\n",
       "          0,   0,   0,   0,  27, 254,  65,   0,   0,   0,   0,   0,   0,\n",
       "          0,   0],\n",
       "       [  0,   0,   0,   0,   0,   0,   0, 127, 254,  21,   0,   0,   0,\n",
       "          0,   0,   0,   0,  20, 239,  65,   0,   0,   0,   0,   0,   0,\n",
       "          0,   0],\n",
       "       [  0,   0,   0,   0,   0,   0,   0,  77, 254,  21,   0,   0,   0,\n",
       "          0,   0,   0,   0,   0, 195,  65,   0,   0,   0,   0,   0,   0,\n",
       "          0,   0],\n",
       "       [  0,   0,   0,   0,   0,   0,   0,  70, 254,  21,   0,   0,   0,\n",
       "          0,   0,   0,   0,   0, 195, 142,   0,   0,   0,   0,   0,   0,\n",
       "          0,   0],\n",
       "       [  0,   0,   0,   0,   0,   0,   0,  56, 251,  21,   0,   0,   0,\n",
       "          0,   0,   0,   0,   0, 195, 227,   0,   0,   0,   0,   0,   0,\n",
       "          0,   0],\n",
       "       [  0,   0,   0,   0,   0,   0,   0,   0, 222, 153,   5,   0,   0,\n",
       "          0,   0,   0,   0,   0, 120, 240,  13,   0,   0,   0,   0,   0,\n",
       "          0,   0],\n",
       "       [  0,   0,   0,   0,   0,   0,   0,   0,  67, 251,  40,   0,   0,\n",
       "          0,   0,   0,   0,   0,  94, 255,  69,   0,   0,   0,   0,   0,\n",
       "          0,   0],\n",
       "       [  0,   0,   0,   0,   0,   0,   0,   0,   0, 234, 184,   0,   0,\n",
       "          0,   0,   0,   0,   0,  19, 245,  69,   0,   0,   0,   0,   0,\n",
       "          0,   0],\n",
       "       [  0,   0,   0,   0,   0,   0,   0,   0,   0, 234, 169,   0,   0,\n",
       "          0,   0,   0,   0,   0,   3, 199, 182,  10,   0,   0,   0,   0,\n",
       "          0,   0],\n",
       "       [  0,   0,   0,   0,   0,   0,   0,   0,   0, 154, 205,   4,   0,\n",
       "          0,  26,  72, 128, 203, 208, 254, 254, 131,   0,   0,   0,   0,\n",
       "          0,   0],\n",
       "       [  0,   0,   0,   0,   0,   0,   0,   0,   0,  61, 254, 129, 113,\n",
       "        186, 245, 251, 189,  75,  56, 136, 254,  73,   0,   0,   0,   0,\n",
       "          0,   0],\n",
       "       [  0,   0,   0,   0,   0,   0,   0,   0,   0,  15, 216, 233, 233,\n",
       "        159, 104,  52,   0,   0,   0,  38, 254,  73,   0,   0,   0,   0,\n",
       "          0,   0],\n",
       "       [  0,   0,   0,   0,   0,   0,   0,   0,   0,   0,   0,   0,   0,\n",
       "          0,   0,   0,   0,   0,   0,  18, 254,  73,   0,   0,   0,   0,\n",
       "          0,   0],\n",
       "       [  0,   0,   0,   0,   0,   0,   0,   0,   0,   0,   0,   0,   0,\n",
       "          0,   0,   0,   0,   0,   0,  18, 254,  73,   0,   0,   0,   0,\n",
       "          0,   0],\n",
       "       [  0,   0,   0,   0,   0,   0,   0,   0,   0,   0,   0,   0,   0,\n",
       "          0,   0,   0,   0,   0,   0,   5, 206, 106,   0,   0,   0,   0,\n",
       "          0,   0],\n",
       "       [  0,   0,   0,   0,   0,   0,   0,   0,   0,   0,   0,   0,   0,\n",
       "          0,   0,   0,   0,   0,   0,   0, 186, 159,   0,   0,   0,   0,\n",
       "          0,   0],\n",
       "       [  0,   0,   0,   0,   0,   0,   0,   0,   0,   0,   0,   0,   0,\n",
       "          0,   0,   0,   0,   0,   0,   6, 209, 101,   0,   0,   0,   0,\n",
       "          0,   0],\n",
       "       [  0,   0,   0,   0,   0,   0,   0,   0,   0,   0,   0,   0,   0,\n",
       "          0,   0,   0,   0,   0,   0,   0,   0,   0,   0,   0,   0,   0,\n",
       "          0,   0],\n",
       "       [  0,   0,   0,   0,   0,   0,   0,   0,   0,   0,   0,   0,   0,\n",
       "          0,   0,   0,   0,   0,   0,   0,   0,   0,   0,   0,   0,   0,\n",
       "          0,   0],\n",
       "       [  0,   0,   0,   0,   0,   0,   0,   0,   0,   0,   0,   0,   0,\n",
       "          0,   0,   0,   0,   0,   0,   0,   0,   0,   0,   0,   0,   0,\n",
       "          0,   0]], dtype=int64)"
      ]
     },
     "execution_count": 8,
     "metadata": {},
     "output_type": "execute_result"
    }
   ],
   "source": [
    "var1 = var1.reshape(28, 28)\n",
    "var1"
   ]
  },
  {
   "cell_type": "code",
   "execution_count": 9,
   "id": "741478f9",
   "metadata": {},
   "outputs": [
    {
     "data": {
      "text/plain": [
       "<matplotlib.image.AxesImage at 0x24f92c1e730>"
      ]
     },
     "execution_count": 9,
     "metadata": {},
     "output_type": "execute_result"
    },
    {
     "data": {
      "image/png": "[encoded data removed]",
      "text/plain": [
       "<Figure size 432x288 with 1 Axes>"
      ]
     },
     "metadata": {
      "needs_background": "light"
     },
     "output_type": "display_data"
    }
   ],
   "source": [
    "plt.imshow(var1)"
   ]
  },
  {
   "cell_type": "code",
   "execution_count": 10,
   "id": "678bde91",
   "metadata": {},
   "outputs": [
    {
     "data": {
      "image/png": "[encoded data removed]",
      "text/plain": [
       "<Figure size 432x288 with 49 Axes>"
      ]
     },
     "metadata": {
      "needs_background": "light"
     },
     "output_type": "display_data"
    }
   ],
   "source": [
    "for i in range(49):\n",
    "    plt.subplot(7,7,i+1)\n",
    "    plt.imshow(mnist[i,:].reshape(28,28))\n",
    "    plt.axis('off')"
   ]
  },
  {
   "cell_type": "code",
   "execution_count": 11,
   "id": "d3bec06e",
   "metadata": {},
   "outputs": [],
   "source": [
    "# model building"
   ]
  },
  {
   "cell_type": "code",
   "execution_count": 12,
   "id": "9f8944ef",
   "metadata": {},
   "outputs": [],
   "source": [
    "mnist = pd.read_csv(r'D:\\Datasets\\MNIST_Train.csv')"
   ]
  },
  {
   "cell_type": "code",
   "execution_count": 13,
   "id": "37584c4c",
   "metadata": {},
   "outputs": [],
   "source": [
    "mnist_x = mnist.iloc[:, 1:]\n",
    "mnist_y = mnist.iloc[:, 0]"
   ]
  },
  {
   "cell_type": "code",
   "execution_count": 14,
   "id": "b87c0daf",
   "metadata": {},
   "outputs": [],
   "source": [
    "from sklearn.model_selection import train_test_split\n",
    "\n",
    "mnist_x_train, mnist_x_test, mnist_y_train, mnist_y_test = train_test_split(mnist_x, mnist_y, test_size = .2)"
   ]
  },
  {
   "cell_type": "code",
   "execution_count": 15,
   "id": "22931611",
   "metadata": {},
   "outputs": [
    {
     "name": "stdout",
     "output_type": "stream",
     "text": [
      "(33600, 784)\n",
      "(33600,)\n"
     ]
    }
   ],
   "source": [
    "print(mnist_x_train.shape)\n",
    "print(mnist_y_train.shape)"
   ]
  },
  {
   "cell_type": "code",
   "execution_count": 16,
   "id": "47140cc3",
   "metadata": {},
   "outputs": [
    {
     "name": "stdout",
     "output_type": "stream",
     "text": [
      "(8400, 784)\n",
      "(8400,)\n"
     ]
    }
   ],
   "source": [
    "print(mnist_x_test.shape)\n",
    "print(mnist_y_test.shape)"
   ]
  },
  {
   "cell_type": "code",
   "execution_count": 17,
   "id": "854daca8",
   "metadata": {},
   "outputs": [],
   "source": [
    "mnist_x_train = tf.keras.utils.normalize(mnist_x_train)\n",
    "mnist_x_test = tf.keras.utils.normalize(mnist_x_test)\n",
    "\n",
    "# This step is not mandatory but if we normalize it, we get better performance/results"
   ]
  },
  {
   "cell_type": "code",
   "execution_count": 18,
   "id": "a01fa30f",
   "metadata": {},
   "outputs": [],
   "source": [
    "mnist_x_train = np.array(mnist_x_train)\n",
    "mnist_x_test = np.array(mnist_x_test)\n",
    "mnist_y_train = np.array(mnist_y_train)\n",
    "\n",
    "# In NEURAL networks, data has to be in the array format and not in he dataframe format"
   ]
  },
  {
   "cell_type": "code",
   "execution_count": 19,
   "id": "f298f0f6",
   "metadata": {},
   "outputs": [],
   "source": [
    "def build_model():\n",
    "    model = tf.keras.models.Sequential()  # model is initialized\n",
    "    model.add(tf.keras.layers.Dense(128, activation = tf.nn.relu)) # 1st hidden layer\n",
    "    model.add(tf.keras.layers.Dense(128, activation = tf.nn.relu)) # 2nd hidden layer\n",
    "    model.add(tf.keras.layers.Dense(128, activation = tf.nn.relu)) # 3rd hidden layer\n",
    "    model.add(tf.keras.layers.Dense(10, activation = tf.nn.softmax)) # 10 is not hyper parameter\n",
    "                                                                 # number of levels in target variable \n",
    "    \n",
    "    \n",
    "    model.compile(optimizer = 'adam', loss= 'sparse_categorical_crossentropy', metrics = ['accuracy'])\n",
    "    \n",
    "    return model"
   ]
  },
  {
   "cell_type": "code",
   "execution_count": 20,
   "id": "2d8e266a",
   "metadata": {},
   "outputs": [],
   "source": [
    "# model = tf.keras.models.Sequential()  # model is initialized\n",
    "# model.add(tf.keras.layers.Dense(128, activation = tf.nn.relu)) # 1st hidden layer\n",
    "# model.add(tf.keras.layers.Dense(128, activation = tf.nn.relu)) # 2nd hidden layer\n",
    "# model.add(tf.keras.layers.Dense(128, activation = tf.nn.relu)) # 3rd hidden layer\n",
    "# model.add(tf.keras.layers.Dense(10, activation = tf.nn.softmax)) # 10 is not hyper parameter\n",
    "#                                                                  # number of levels in target variable"
   ]
  },
  {
   "cell_type": "code",
   "execution_count": 21,
   "id": "df06ddbc",
   "metadata": {},
   "outputs": [],
   "source": [
    "# model.compile(optimizer = 'adam', loss= 'sparse_categorical_crossentropy', metrics = ['accuracy'])\n",
    "\n",
    "# # adam is optimizer like GD"
   ]
  },
  {
   "cell_type": "code",
   "execution_count": 22,
   "id": "f66ce7ff",
   "metadata": {},
   "outputs": [
    {
     "name": "stdout",
     "output_type": "stream",
     "text": [
      "Epoch 1/25\n",
      "434/434 [==============================] - 3s 7ms/step - loss: 0.5180 - accuracy: 0.8532 - val_loss: 0.2326 - val_accuracy: 0.9292\n",
      "Epoch 2/25\n",
      "434/434 [==============================] - 2s 5ms/step - loss: 0.1921 - accuracy: 0.9404 - val_loss: 0.1942 - val_accuracy: 0.9376\n",
      "Epoch 3/25\n",
      "434/434 [==============================] - 2s 4ms/step - loss: 0.1380 - accuracy: 0.9585 - val_loss: 0.1394 - val_accuracy: 0.9567\n",
      "Epoch 4/25\n",
      "434/434 [==============================] - 2s 4ms/step - loss: 0.1058 - accuracy: 0.9672 - val_loss: 0.1385 - val_accuracy: 0.9609\n",
      "Epoch 5/25\n",
      "434/434 [==============================] - 2s 3ms/step - loss: 0.0803 - accuracy: 0.9748 - val_loss: 0.1112 - val_accuracy: 0.9659\n",
      "Epoch 6/25\n",
      "434/434 [==============================] - 1s 2ms/step - loss: 0.0624 - accuracy: 0.9805 - val_loss: 0.1035 - val_accuracy: 0.9695\n",
      "Epoch 7/25\n",
      "434/434 [==============================] - 2s 4ms/step - loss: 0.0493 - accuracy: 0.9841 - val_loss: 0.1261 - val_accuracy: 0.9647\n",
      "Epoch 8/25\n",
      "434/434 [==============================] - 2s 4ms/step - loss: 0.0401 - accuracy: 0.9874 - val_loss: 0.1121 - val_accuracy: 0.9670\n",
      "Epoch 9/25\n",
      "434/434 [==============================] - 2s 5ms/step - loss: 0.0321 - accuracy: 0.9897 - val_loss: 0.1163 - val_accuracy: 0.9685\n",
      "Epoch 10/25\n",
      "434/434 [==============================] - 2s 5ms/step - loss: 0.0277 - accuracy: 0.9911 - val_loss: 0.1223 - val_accuracy: 0.9674\n",
      "Epoch 11/25\n",
      "434/434 [==============================] - 2s 4ms/step - loss: 0.0222 - accuracy: 0.9927 - val_loss: 0.1323 - val_accuracy: 0.9652\n",
      "Epoch 12/25\n",
      "434/434 [==============================] - 1s 3ms/step - loss: 0.0198 - accuracy: 0.9941 - val_loss: 0.1215 - val_accuracy: 0.9689\n",
      "Epoch 13/25\n",
      "434/434 [==============================] - 2s 4ms/step - loss: 0.0189 - accuracy: 0.9936 - val_loss: 0.1201 - val_accuracy: 0.9674\n",
      "Epoch 14/25\n",
      "434/434 [==============================] - 2s 4ms/step - loss: 0.0137 - accuracy: 0.9955 - val_loss: 0.1420 - val_accuracy: 0.9679\n",
      "Epoch 15/25\n",
      "434/434 [==============================] - 2s 4ms/step - loss: 0.0130 - accuracy: 0.9954 - val_loss: 0.1284 - val_accuracy: 0.9677\n",
      "Epoch 16/25\n",
      "434/434 [==============================] - 2s 4ms/step - loss: 0.0105 - accuracy: 0.9964 - val_loss: 0.1475 - val_accuracy: 0.9693\n",
      "Epoch 17/25\n",
      "434/434 [==============================] - 2s 4ms/step - loss: 0.0107 - accuracy: 0.9965 - val_loss: 0.1669 - val_accuracy: 0.9680\n",
      "Epoch 18/25\n",
      "434/434 [==============================] - 1s 3ms/step - loss: 0.0126 - accuracy: 0.9954 - val_loss: 0.1566 - val_accuracy: 0.9685\n",
      "Epoch 19/25\n",
      "434/434 [==============================] - 1s 2ms/step - loss: 0.0104 - accuracy: 0.9963 - val_loss: 0.1454 - val_accuracy: 0.9707\n",
      "Epoch 20/25\n",
      "434/434 [==============================] - 1s 3ms/step - loss: 0.0090 - accuracy: 0.9974 - val_loss: 0.1669 - val_accuracy: 0.9668\n",
      "Epoch 21/25\n",
      "434/434 [==============================] - 1s 2ms/step - loss: 0.0137 - accuracy: 0.9953 - val_loss: 0.1574 - val_accuracy: 0.9690\n",
      "Epoch 22/25\n",
      "434/434 [==============================] - 1s 2ms/step - loss: 0.0060 - accuracy: 0.9980 - val_loss: 0.1657 - val_accuracy: 0.9701\n",
      "Epoch 23/25\n",
      "434/434 [==============================] - 1s 2ms/step - loss: 0.0077 - accuracy: 0.9978 - val_loss: 0.2115 - val_accuracy: 0.9570\n",
      "Epoch 24/25\n",
      "434/434 [==============================] - 1s 3ms/step - loss: 0.0091 - accuracy: 0.9967 - val_loss: 0.1573 - val_accuracy: 0.9702\n",
      "Epoch 25/25\n",
      "434/434 [==============================] - 1s 2ms/step - loss: 0.0074 - accuracy: 0.9978 - val_loss: 0.1724 - val_accuracy: 0.9690\n"
     ]
    }
   ],
   "source": [
    "model = build_model();\n",
    "model1 = model.fit(mnist_x_train, mnist_y_train, epochs =  25, validation_split = .2, batch_size=62)\n",
    "\n",
    "dict1 = model1"
   ]
  },
  {
   "cell_type": "code",
   "execution_count": 23,
   "id": "4a698009",
   "metadata": {
    "scrolled": true
   },
   "outputs": [
    {
     "data": {
      "text/plain": [
       "array([0, 6, 4, ..., 7, 3, 4], dtype=int64)"
      ]
     },
     "execution_count": 23,
     "metadata": {},
     "output_type": "execute_result"
    }
   ],
   "source": [
    "pred_classes = model.predict(mnist_x_test)\n",
    "pred_classes = np.argmax(pred_classes, axis=1)\n",
    "pred_classes"
   ]
  },
  {
   "cell_type": "code",
   "execution_count": 24,
   "id": "5651542a",
   "metadata": {},
   "outputs": [],
   "source": [
    "from sklearn.metrics import confusion_matrix"
   ]
  },
  {
   "cell_type": "code",
   "execution_count": 25,
   "id": "8cf5b874",
   "metadata": {},
   "outputs": [
    {
     "data": {
      "text/plain": [
       "array([[826,   0,   1,   0,   0,   0,   3,   1,   3,   0],\n",
       "       [  0, 895,   4,   1,   1,   0,   1,   3,   4,   0],\n",
       "       [  4,   3, 810,   3,   2,   0,   0,  10,   5,   2],\n",
       "       [  4,   1,  10, 828,   0,   4,   0,   2,  10,   3],\n",
       "       [  3,   4,   0,   0, 786,   2,   3,   0,   2,   7],\n",
       "       [  2,   1,   0,  11,   2, 721,  10,   1,   7,   1],\n",
       "       [  5,   4,   3,   0,   3,   2, 821,   1,   2,   0],\n",
       "       [  3,   3,   4,   1,   2,   3,   0, 874,   0,   4],\n",
       "       [  2,   9,   1,   6,   2,   4,   1,   0, 814,   1],\n",
       "       [  5,   4,   0,   3,   8,   1,   0,  11,   5, 781]], dtype=int64)"
      ]
     },
     "execution_count": 25,
     "metadata": {},
     "output_type": "execute_result"
    }
   ],
   "source": [
    "cm = confusion_matrix(mnist_y_test, pred_classes)\n",
    "cm"
   ]
  },
  {
   "cell_type": "code",
   "execution_count": 29,
   "id": "b9d12ff0",
   "metadata": {},
   "outputs": [],
   "source": [
    "dict1 = model1.history"
   ]
  },
  {
   "cell_type": "code",
   "execution_count": 30,
   "id": "83f0db47",
   "metadata": {},
   "outputs": [],
   "source": [
    "dict1 = pd.DataFrame(dict1)"
   ]
  },
  {
   "cell_type": "code",
   "execution_count": 31,
   "id": "55427e40",
   "metadata": {},
   "outputs": [
    {
     "data": {
      "text/plain": [
       "[<matplotlib.lines.Line2D at 0x24f9501b5e0>]"
      ]
     },
     "execution_count": 31,
     "metadata": {},
     "output_type": "execute_result"
    },
    {
     "data": {
      "image/png": "[encoded data removed]",
      "text/plain": [
       "<Figure size 432x288 with 1 Axes>"
      ]
     },
     "metadata": {
      "needs_background": "light"
     },
     "output_type": "display_data"
    }
   ],
   "source": [
    "plt.plot(dict1.loss, color='r', label = 'loss' , marker='*')\n",
    "plt.plot(dict1.val_loss, color='g', label = 'val_loss', marker='*')"
   ]
  },
  {
   "cell_type": "code",
   "execution_count": null,
   "id": "8b9bf252",
   "metadata": {},
   "outputs": [],
   "source": []
  }
 ],
 "metadata": {
  "kernelspec": {
   "display_name": "Python 3 (ipykernel)",
   "language": "python",
   "name": "python3"
  },
  "language_info": {
   "codemirror_mode": {
    "name": "ipython",
    "version": 3
   },
   "file_extension": ".py",
   "mimetype": "text/x-python",
   "name": "python",
   "nbconvert_exporter": "python",
   "pygments_lexer": "ipython3",
   "version": "3.9.11"
  }
 },
 "nbformat": 4,
 "nbformat_minor": 5
}
